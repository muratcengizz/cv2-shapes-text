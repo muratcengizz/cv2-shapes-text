{
 "cells": [
  {
   "cell_type": "code",
   "execution_count": 97,
   "id": "fa1903ab-f26e-475b-a11a-97c9fee10ebf",
   "metadata": {},
   "outputs": [],
   "source": [
    "import cv2\n",
    "import numpy as np"
   ]
  },
  {
   "cell_type": "code",
   "execution_count": 98,
   "id": "2b4e95e9-1cb2-4d77-9aa7-eb1c272cec41",
   "metadata": {},
   "outputs": [
    {
     "name": "stdout",
     "output_type": "stream",
     "text": [
      "(512, 512, 3)\n"
     ]
    }
   ],
   "source": [
    "img = np.zeros((512, 512, 3), np.uint8) # siyah bir resim\n",
    "print(img.shape)"
   ]
  },
  {
   "cell_type": "code",
   "execution_count": 99,
   "id": "4fe487a4-f9a6-4b4e-ac69-9af7ebaaf16e",
   "metadata": {},
   "outputs": [
    {
     "data": {
      "text/plain": [
       "-1"
      ]
     },
     "execution_count": 99,
     "metadata": {},
     "output_type": "execute_result"
    }
   ],
   "source": [
    "cv2.imshow(winname='Black', mat=img)\n",
    "cv2.waitKey(0)"
   ]
  },
  {
   "cell_type": "markdown",
   "id": "bbebc7f9-498c-426f-a921-b57b9cd36dfc",
   "metadata": {},
   "source": [
    "### Çizgi"
   ]
  },
  {
   "cell_type": "markdown",
   "id": "ca08b2a7-0f89-467b-8a11-9ae244cfd5fe",
   "metadata": {},
   "source": [
    "### cv2.line(img, pt1, pt2, color, thickness, lineType, shift)\n",
    "### img: Çizim yapılacak görüntü veya resim\n",
    "### pt1: Çizginin başlangıç noktasının koordinatları. Koordinatlar (x, y) şeklinde olmalıdır.\n",
    "### pt2: Çizginin bitiş noktasının koordinatları. Yine koordinatlar (x, y) şeklinde olmalıdır.\n",
    "### color: Çizginin rengi. RGB formatında bir renk veya gri tonlamalı bir renk olabilir.\n",
    "### thickness: Çizgi kalınlığı. Negatif değerler, çizginin tamamen dolu olmasını sağlar.\n",
    "### lineType: Çizginin tipi. Varsayılan olarak 8-connectivity çizgiyi temsil eder. cv2.LINE_AA kullanılarak antialiasing etkisi elde edilebilir.\n",
    "### shift: Koordinat değerlerinin kaydırılması için kullanılır."
   ]
  },
  {
   "cell_type": "code",
   "execution_count": 100,
   "id": "3c4da6a2-960a-4c4e-a636-9ea00fa6c56f",
   "metadata": {},
   "outputs": [
    {
     "data": {
      "text/plain": [
       "-1"
      ]
     },
     "execution_count": 100,
     "metadata": {},
     "output_type": "execute_result"
    }
   ],
   "source": [
    "cv2.line(img=img, pt1=(100, 100), pt2=(200, 200), color=(0, 255, 0), thickness=3)\n",
    "cv2.imshow(winname='Line', mat=img)\n",
    "cv2.waitKey(0)"
   ]
  },
  {
   "cell_type": "code",
   "execution_count": 101,
   "id": "ab8a4017-c507-448f-804e-d7967c3a6360",
   "metadata": {},
   "outputs": [
    {
     "name": "stdout",
     "output_type": "stream",
     "text": [
      "(512, 512, 3)\n"
     ]
    },
    {
     "data": {
      "text/plain": [
       "-1"
      ]
     },
     "execution_count": 101,
     "metadata": {},
     "output_type": "execute_result"
    }
   ],
   "source": [
    "img = np.zeros((512, 512, 3), np.uint8)\n",
    "print(img.shape)\n",
    "\n",
    "cv2.imshow(winname='Black', mat=img)\n",
    "cv2.line(img=img, pt1=(100, 100), pt2=(200, 200), color=(0, 255, 0), thickness=3)\n",
    "cv2.imshow(winname='Line', mat=img)\n",
    "cv2.waitKey(0)"
   ]
  },
  {
   "cell_type": "code",
   "execution_count": 102,
   "id": "80fffdf4-7b19-43ad-b4be-77630efe73e4",
   "metadata": {},
   "outputs": [
    {
     "data": {
      "text/plain": [
       "-1"
      ]
     },
     "execution_count": 102,
     "metadata": {},
     "output_type": "execute_result"
    }
   ],
   "source": [
    "cv2.line(img=img, pt1=(150, 81), pt2=(250, 250), color=(21, 243, 50), thickness=5)\n",
    "cv2.imshow(winname='Line', mat=img)\n",
    "cv2.waitKey(0)"
   ]
  },
  {
   "cell_type": "code",
   "execution_count": 103,
   "id": "d15fee87-1ccb-4448-87c5-c23c81e2d0c2",
   "metadata": {},
   "outputs": [
    {
     "data": {
      "text/plain": [
       "-1"
      ]
     },
     "execution_count": 103,
     "metadata": {},
     "output_type": "execute_result"
    }
   ],
   "source": [
    "cv2.line(img=img, pt1=(0, 0), pt2=(512,512), color=(255, 0, 0), thickness=4)\n",
    "cv2.imshow(winname='Line', mat=img)\n",
    "cv2.waitKey(0)"
   ]
  },
  {
   "cell_type": "code",
   "execution_count": 104,
   "id": "93dc0813-0a39-4831-835a-6ad20ad944e9",
   "metadata": {},
   "outputs": [
    {
     "data": {
      "text/plain": [
       "-1"
      ]
     },
     "execution_count": 104,
     "metadata": {},
     "output_type": "execute_result"
    }
   ],
   "source": [
    "cv2.line(img=img, pt1=(512,0), pt2=(0,512), color=(0, 0, 255), thickness=6)\n",
    "cv2.imshow(winname='Line', mat=img)\n",
    "cv2.waitKey(0)"
   ]
  },
  {
   "cell_type": "code",
   "execution_count": 105,
   "id": "b84e606a-d6d4-4e02-8316-24adf3a3b0e6",
   "metadata": {},
   "outputs": [
    {
     "data": {
      "text/plain": [
       "-1"
      ]
     },
     "execution_count": 105,
     "metadata": {},
     "output_type": "execute_result"
    }
   ],
   "source": [
    "cv2.line(img=img, pt1=(256, 0), pt2=(256, 512), color=(100, 100, 100), thickness=5)\n",
    "cv2.imshow(winname='Line', mat=img)\n",
    "cv2.waitKey(0)"
   ]
  },
  {
   "cell_type": "code",
   "execution_count": 106,
   "id": "5e2fd1ed-20db-4042-9bdf-725801a3ac52",
   "metadata": {},
   "outputs": [
    {
     "data": {
      "text/plain": [
       "-1"
      ]
     },
     "execution_count": 106,
     "metadata": {},
     "output_type": "execute_result"
    }
   ],
   "source": [
    "cv2.line(img=img, pt1=(0, 256), pt2=(512, 256), color=(50, 100, 150), thickness=5)\n",
    "cv2.imshow(winname='Line', mat=img)\n",
    "cv2.waitKey(0)"
   ]
  },
  {
   "cell_type": "markdown",
   "id": "558931d4-7512-4eb0-b673-324519520cfb",
   "metadata": {},
   "source": [
    "### Dikdörtgen\n",
    "\n",
    "### cv2.rectangle(img, pt1, pt2, color, thickness, lineType, shift)\n",
    "\n",
    "### img: Dikdörtgenin çizileceği görüntü veya görüntünün yer aldığı Numpy dizisi.\n",
    "### pt1: Dikdörtgenin sol üst köşesinin koordinatları. Koordinatlar (x, y) şeklinde verilir.\n",
    "### pt2: Dikdörtgenin sağ alt köşesinin koordinatları. Koordinatlar (x, y) şeklinde verilir.\n",
    "### color: Dikdörtgenin rengini belirleyen parametre. Renk bilgisi (B, G, R) şeklinde veya tek bir sayı olarak verilebilir. \n",
    "### thickness: Dikdörtgenin kenar kalınlığını belirleyen parametre. Negatif değerler kullanılarak dikdörtgenin içini doldurmak mümkündür.\n",
    "### lineType: Dikdörtgenin kenarlarının nasıl çizileceğini belirleyen parametre. OpenCV'nin çizgi türleri arasından seçim yapabiliriz. Varsayılan olarak, 8'li bir çizgi (CV_AA) kullanılır.\n",
    "### shift: Koordinatları kaydırmak için kullanılan parametre, Genellikle 0 olarak belirtilir."
   ]
  },
  {
   "cell_type": "code",
   "execution_count": 107,
   "id": "07e1fbcf-cea1-4d5a-92da-0a002c33d34b",
   "metadata": {},
   "outputs": [],
   "source": [
    "img = np.ones((512, 512, 3), np.uint8)"
   ]
  },
  {
   "cell_type": "code",
   "execution_count": 108,
   "id": "fd459465-d4b4-46a2-93f2-f6bb471746c4",
   "metadata": {},
   "outputs": [
    {
     "data": {
      "text/plain": [
       "-1"
      ]
     },
     "execution_count": 108,
     "metadata": {},
     "output_type": "execute_result"
    }
   ],
   "source": [
    "cv2.rectangle(img=img, pt1=(100, 100), pt2=(400, 400), color=(255, 255, 255), thickness=1)\n",
    "cv2.imshow(winname='Rectangle', mat=img)\n",
    "cv2.waitKey(0)"
   ]
  },
  {
   "cell_type": "code",
   "execution_count": 109,
   "id": "c38136cc-e596-41b3-8feb-7b8450609dc4",
   "metadata": {},
   "outputs": [
    {
     "data": {
      "text/plain": [
       "-1"
      ]
     },
     "execution_count": 109,
     "metadata": {},
     "output_type": "execute_result"
    }
   ],
   "source": [
    "cv2.rectangle(img=img, pt1=(120, 120), pt2=(380, 380), color=(255, 0, 0), thickness=2)\n",
    "cv2.imshow(winname='Rectangle', mat=img)\n",
    "cv2.waitKey(0)"
   ]
  },
  {
   "cell_type": "code",
   "execution_count": 110,
   "id": "7acfd512-8153-4af0-a88e-bee2aaba4033",
   "metadata": {},
   "outputs": [
    {
     "data": {
      "text/plain": [
       "-1"
      ]
     },
     "execution_count": 110,
     "metadata": {},
     "output_type": "execute_result"
    }
   ],
   "source": [
    "cv2.rectangle(img=img, pt1=(140, 140), pt2=(360, 360), color=(0, 255, 0), thickness=3)\n",
    "cv2.imshow(winname='Rectangle', mat=img)\n",
    "cv2.waitKey(0)"
   ]
  },
  {
   "cell_type": "code",
   "execution_count": 111,
   "id": "73bdab98-5c62-4369-b970-32a6c375b4a3",
   "metadata": {},
   "outputs": [
    {
     "data": {
      "text/plain": [
       "-1"
      ]
     },
     "execution_count": 111,
     "metadata": {},
     "output_type": "execute_result"
    }
   ],
   "source": [
    "cv2.rectangle(img=img, pt1=(160, 160), pt2=(340, 340), color=(55, 55, 55), thickness=4)\n",
    "cv2.imshow(winname='Rectangle', mat=img)\n",
    "cv2.waitKey(0)"
   ]
  },
  {
   "cell_type": "code",
   "execution_count": 112,
   "id": "c42c57d1-498b-46c8-b7b2-b10757dc709a",
   "metadata": {},
   "outputs": [
    {
     "data": {
      "text/plain": [
       "-1"
      ]
     },
     "execution_count": 112,
     "metadata": {},
     "output_type": "execute_result"
    }
   ],
   "source": [
    "cv2.rectangle(img=img, pt1=(180, 180), pt2=(320, 320), color=(120, 120, 120), thickness=5)\n",
    "cv2.imshow(winname='Rectangle', mat=img)\n",
    "cv2.waitKey(0)"
   ]
  },
  {
   "cell_type": "code",
   "execution_count": 113,
   "id": "cf98192b-cefe-4a57-836d-fcc2da2e38fa",
   "metadata": {},
   "outputs": [
    {
     "data": {
      "text/plain": [
       "-1"
      ]
     },
     "execution_count": 113,
     "metadata": {},
     "output_type": "execute_result"
    }
   ],
   "source": [
    "cv2.rectangle(img=img, pt1=(200, 200), pt2=(300, 300), color=(0, 0, 255), thickness=6)\n",
    "cv2.imshow(winname='Rectangle', mat=img)\n",
    "cv2.waitKey(0)"
   ]
  },
  {
   "cell_type": "code",
   "execution_count": 114,
   "id": "7fb5069d-e039-4698-a131-dd0979cf3fe9",
   "metadata": {},
   "outputs": [
    {
     "data": {
      "text/plain": [
       "-1"
      ]
     },
     "execution_count": 114,
     "metadata": {},
     "output_type": "execute_result"
    }
   ],
   "source": [
    "cv2.rectangle(img=img, pt1=(220, 220), pt2=(280, 280), color=(50, 50, 200), thickness=cv2.FILLED)\n",
    "cv2.imshow(winname='Rectangle', mat=img)\n",
    "cv2.waitKey(0)"
   ]
  },
  {
   "cell_type": "markdown",
   "id": "7d552a46-30d7-46db-ad52-871177a81e26",
   "metadata": {},
   "source": [
    "## Çember\n",
    "\n",
    "### cv2.circle(img, center, radius, color, thickness, lineType, shift)\n",
    "### img: Dairenin çizileceği görüntü veya görüntünün yer aldığı Numpy dizisi.\n",
    "### center: Dairenin merkez noktasının koordinatları. Koordinatlar (x, y) şeklinde verilir.\n",
    "### radius: Dairenin yarıçapı\n",
    "### color: Dairenin rengini belirleyen parametre. Renk bilgisi (B,G, R) şeklinde veya tek bir sayı olarak verilebilir.\n",
    "### thickness: Dairenin kenar kalınlığını belirleyen parametre. Negatif değerler kullanılarak dairenin içini doldurmak mümkündür.\n",
    "### lineType: Dairenin kenarlarının nasıl çizileceğini belirleyen parametre. OpenCV 'nin çizgi türleri arasından seçim yapabiliriz.\n",
    "### shift: Koordinatları kaydırmak için kullanılan parametre. Genellikle 0 olarak belirtilir."
   ]
  },
  {
   "cell_type": "code",
   "execution_count": 115,
   "id": "5f606dbc-f858-4c68-97b3-e287906f1d5d",
   "metadata": {},
   "outputs": [],
   "source": [
    "img = np.zeros(shape=(512, 512, 3), dtype=np.uint8)"
   ]
  },
  {
   "cell_type": "code",
   "execution_count": 116,
   "id": "0db5bc75-c857-4240-95ae-5accd71f1181",
   "metadata": {},
   "outputs": [
    {
     "data": {
      "text/plain": [
       "-1"
      ]
     },
     "execution_count": 116,
     "metadata": {},
     "output_type": "execute_result"
    }
   ],
   "source": [
    "cv2.circle(img=img, center=(100, 100), radius=40, color=(255, 0, 0), thickness=2)\n",
    "cv2.imshow(winname='Circle', mat=img)\n",
    "cv2.waitKey(0)"
   ]
  },
  {
   "cell_type": "code",
   "execution_count": 117,
   "id": "db853da1-d0af-4f35-977d-def23f660d79",
   "metadata": {},
   "outputs": [
    {
     "data": {
      "text/plain": [
       "-1"
      ]
     },
     "execution_count": 117,
     "metadata": {},
     "output_type": "execute_result"
    }
   ],
   "source": [
    "cv2.circle(img=img, center=(440, 100), radius=40, color=(0, 255, 0), thickness=cv2.FILLED)\n",
    "cv2.imshow(winname='Circle', mat=img)\n",
    "cv2.waitKey(0)"
   ]
  },
  {
   "cell_type": "code",
   "execution_count": 118,
   "id": "c0db0598-210a-45b3-a549-0cf75ab7bcad",
   "metadata": {},
   "outputs": [
    {
     "data": {
      "text/plain": [
       "-1"
      ]
     },
     "execution_count": 118,
     "metadata": {},
     "output_type": "execute_result"
    }
   ],
   "source": [
    "cv2.circle(img=img, center=(100, 440), radius=40, color=(0, 0, 255), thickness=cv2.FILLED)\n",
    "cv2.imshow(winname='Circle', mat=img)\n",
    "cv2.waitKey(0)"
   ]
  },
  {
   "cell_type": "code",
   "execution_count": 119,
   "id": "e4e1ce0a-38fc-4b7f-bab8-2abdc33badeb",
   "metadata": {},
   "outputs": [
    {
     "data": {
      "text/plain": [
       "-1"
      ]
     },
     "execution_count": 119,
     "metadata": {},
     "output_type": "execute_result"
    }
   ],
   "source": [
    "cv2.circle(img=img, center=(440, 440), radius=40, color=(0, 170, 20), thickness=8)\n",
    "cv2.imshow(winname='Circle', mat=img)\n",
    "cv2.waitKey(0)"
   ]
  },
  {
   "cell_type": "code",
   "execution_count": 120,
   "id": "663a2d66-6842-4fd1-8e6c-7e7952504143",
   "metadata": {},
   "outputs": [
    {
     "data": {
      "text/plain": [
       "-1"
      ]
     },
     "execution_count": 120,
     "metadata": {},
     "output_type": "execute_result"
    }
   ],
   "source": [
    "cv2.circle(img=img, center=(270, 270), radius=200, color=(200, 200, 200), thickness=cv2.FILLED)\n",
    "cv2.imshow(winname='Circle', mat=img)\n",
    "cv2.waitKey(0)"
   ]
  },
  {
   "cell_type": "markdown",
   "id": "897bc3f7-16d3-4f6e-809f-bd125bca6c98",
   "metadata": {},
   "source": [
    "## Metin"
   ]
  },
  {
   "cell_type": "markdown",
   "id": "066a780a-f3a9-4a6c-a6bc-aa5e6443be6a",
   "metadata": {},
   "source": [
    "### cv2.putText(img, text, org, fontFace, fontScale, color, thickness, lineType, bottomLeftOrigin)\n",
    "### img: Metnin çizileceği görüntü veya görüntünün yer aldığı Numpy dizisi.\n",
    "### text: Çizilecek metin\n",
    "### org: Metnin sol alt köşesinin koordinatları. Koordinatlar (x, y) şeklinde verilir.\n",
    "### fontFace: Kullanılacak yazı tipi\n",
    "### fontScale: Yazı tipi ölçeği (boyutu)\n",
    "### color: Metnin rengini belirleyen parametre. (B, G, R) şeklinde veya tek bir sayı olarak verilebilir.\n",
    "### thickness: Metnin kalınlığını belirleyen parametre. Tam sayı değeri olarak verilir ve negatif değerler kullanılarak metnin içini doldurmak mümkündür.\n",
    "### lineType: Metin çizgilerinin nasıl çizileceğini belirleyen parametre. OpenCV'nin çizgi türleri arasından seçim yapabiliriz.\n",
    "### bottomLeftOrigin: Bu parametre, metin çizimi için kullanılan koordinat sistemini belirler. Eğer 'True' olarak ayarlanırsa, 'org' parametresi metnin sol alt köşesini temsil eder. Eğer 'False' olarak ayarlanırsa, 'org' parametresi metnin sol üst köşesini temsil eder."
   ]
  },
  {
   "cell_type": "code",
   "execution_count": 121,
   "id": "75f69b12-2aad-46c6-80dd-9d276bd8564b",
   "metadata": {},
   "outputs": [],
   "source": [
    "img = np.zeros(shape=(512, 512, 3), dtype=np.uint8)"
   ]
  },
  {
   "cell_type": "code",
   "execution_count": 122,
   "id": "a0740d7f-ff74-481b-b143-06d4a1dc4b56",
   "metadata": {},
   "outputs": [
    {
     "data": {
      "text/plain": [
       "-1"
      ]
     },
     "execution_count": 122,
     "metadata": {},
     "output_type": "execute_result"
    }
   ],
   "source": [
    "cv2.putText(img=img, \n",
    "            text='Murat Cengiz', \n",
    "            org=(150, 150),\n",
    "            fontFace=cv2.FONT_HERSHEY_COMPLEX, \n",
    "            fontScale=1, \n",
    "            color=(255, 255, 255))\n",
    "cv2.imshow(winname='Text', mat=img)\n",
    "cv2.waitKey(0)"
   ]
  }
 ],
 "metadata": {
  "kernelspec": {
   "display_name": "Python 3 (ipykernel)",
   "language": "python",
   "name": "python3"
  },
  "language_info": {
   "codemirror_mode": {
    "name": "ipython",
    "version": 3
   },
   "file_extension": ".py",
   "mimetype": "text/x-python",
   "name": "python",
   "nbconvert_exporter": "python",
   "pygments_lexer": "ipython3",
   "version": "3.9.12"
  }
 },
 "nbformat": 4,
 "nbformat_minor": 5
}
